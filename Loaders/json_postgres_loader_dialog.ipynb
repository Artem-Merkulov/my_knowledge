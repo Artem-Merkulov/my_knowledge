{
 "cells": [
  {
   "cell_type": "code",
   "execution_count": 1,
   "id": "c1efde97",
   "metadata": {},
   "outputs": [],
   "source": [
    "import json\n",
    "import psycopg2\n",
    "from psycopg2 import sql"
   ]
  },
  {
   "cell_type": "code",
   "execution_count": 2,
   "id": "5c58a827",
   "metadata": {},
   "outputs": [],
   "source": [
    "# Параметры подключения к вашей базе данных\n",
    "db_config = {\n",
    "    'dbname': 'postgres',\n",
    "    'user': 'postgres',\n",
    "    'password': '**************',\n",
    "    'host': 'localhost',  # или IP-адрес вашего сервера\n",
    "    'port': '5433'  # стандартный порт PostgreSQL\n",
    "}"
   ]
  },
  {
   "cell_type": "code",
   "execution_count": 3,
   "id": "40586846",
   "metadata": {},
   "outputs": [],
   "source": [
    "# Путь к вашему JSON-файлу\n",
    "json_file_path = r'C:\\Glowbyte\\Projects\\AutoDV\\sources\\dialog.json'"
   ]
  },
  {
   "cell_type": "code",
   "execution_count": 4,
   "id": "5156c68d",
   "metadata": {},
   "outputs": [],
   "source": [
    "# Функция для загрузки данных из JSON в PostgreSQL\n",
    "def load_json_to_postgresql(json_file_path, db_config):\n",
    "    # Подключение к базе данных\n",
    "    conn = psycopg2.connect(**db_config)\n",
    "    cursor = conn.cursor()\n",
    "\n",
    "    # Чтение данных из JSON-файла\n",
    "    with open(json_file_path, 'r', encoding='utf-8') as file:\n",
    "        data = json.load(file)\n",
    "\n",
    "    # Подготовка SQL-запроса для вставки\n",
    "    insert_query = sql.SQL(\"\"\"\n",
    "        INSERT INTO auto_dv.dialog (\n",
    "            message_id, \n",
    "            message_ts,\n",
    "            message_from,\n",
    "            message_to,\n",
    "            message,\n",
    "            message_group)\n",
    "        VALUES (%s, %s, %s, %s, %s, %s)\n",
    "    \"\"\")\n",
    "\n",
    "    # Вставка данных в таблицу\n",
    "    for dialog in data['dialog']:\n",
    "        cursor.execute(insert_query, (\n",
    "            dialog['message_id'],\n",
    "            dialog['message_ts'],\n",
    "            dialog['message_from'],\n",
    "            dialog['message_to'],\n",
    "            dialog['message'],\n",
    "            dialog['message_group']\n",
    "        ))\n",
    "\n",
    "    # Зафиксировать изменения и закрыть соединение\n",
    "    conn.commit()\n",
    "    cursor.close()\n",
    "    conn.close()"
   ]
  },
  {
   "cell_type": "code",
   "execution_count": 5,
   "id": "f9474c59",
   "metadata": {},
   "outputs": [],
   "source": [
    "load_json_to_postgresql(json_file_path, db_config)"
   ]
  }
 ],
 "metadata": {
  "kernelspec": {
   "display_name": "Python 3",
   "language": "python",
   "name": "python3"
  },
  "language_info": {
   "codemirror_mode": {
    "name": "ipython",
    "version": 3
   },
   "file_extension": ".py",
   "mimetype": "text/x-python",
   "name": "python",
   "nbconvert_exporter": "python",
   "pygments_lexer": "ipython3",
   "version": "3.11.8"
  }
 },
 "nbformat": 4,
 "nbformat_minor": 5
}
